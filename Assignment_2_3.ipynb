{
  "cells": [
    {
      "cell_type": "markdown",
      "metadata": {
        "id": "view-in-github",
        "colab_type": "text"
      },
      "source": [
        "<a href=\"https://colab.research.google.com/github/NUTTAPONGKEMKOT/COS3109/blob/main/Assignment_2_3.ipynb\" target=\"_parent\"><img src=\"https://colab.research.google.com/assets/colab-badge.svg\" alt=\"Open In Colab\"/></a>"
      ]
    },
    {
      "cell_type": "markdown",
      "source": [
        "# ASSIGNMENT_2-3\n",
        "\n"
      ],
      "metadata": {
        "id": "-izlwnKJqLcp"
      }
    },
    {
      "cell_type": "markdown",
      "source": [
        "1. Colab: Create a code cell underneath this text cell and add code to:\n",
        "- List the path of the current directory (pwd)\n",
        "- Go to / (cd) and list the content (ls-l)"
      ],
      "metadata": {
        "id": "GpEArll_N1a1"
      }
    },
    {
      "cell_type": "code",
      "execution_count": 50,
      "metadata": {
        "id": "CIgQPtvyLd-C",
        "colab": {
          "base_uri": "https://localhost:8080/"
        },
        "outputId": "ac6e6924-2932-48ba-cc64-27a617d6491e"
      },
      "outputs": [
        {
          "output_type": "stream",
          "name": "stdout",
          "text": [
            "/content\n",
            "total 4\n",
            "drwxr-xr-x 1 root root 4096 Jul 11 13:22 sample_data\n"
          ]
        }
      ],
      "source": [
        "!pwd\n",
        "!cd\n",
        "!ls -l\n",
        "\n"
      ]
    },
    {
      "cell_type": "markdown",
      "source": [
        "# **2. Python lists without Numpy: Print the second item in the fruits list:**\n"
      ],
      "metadata": {
        "id": "m7DV4iYHz-sp"
      }
    },
    {
      "cell_type": "code",
      "execution_count": 38,
      "metadata": {
        "colab": {
          "base_uri": "https://localhost:8080/"
        },
        "id": "uWHgP6cCLuli",
        "outputId": "21f989b3-6af0-4945-97b3-f0c97dd905a1"
      },
      "outputs": [
        {
          "output_type": "stream",
          "name": "stdout",
          "text": [
            "/content\n",
            "banana\n"
          ]
        }
      ],
      "source": [
        "\n",
        "fruits = [\"apple\", \"banana\", \"cherry\"]\n",
        "print(fruits[1])"
      ]
    },
    {
      "cell_type": "markdown",
      "source": [
        "# **3. Change the value from “apple” to “kiwi”, in the fruits list:**"
      ],
      "metadata": {
        "id": "vTtHLLm50ZPe"
      }
    },
    {
      "cell_type": "code",
      "execution_count": 4,
      "metadata": {
        "id": "V-7a1NxcM7QL",
        "colab": {
          "base_uri": "https://localhost:8080/"
        },
        "outputId": "91351113-c5eb-45f5-8cf1-0744385d76c4"
      },
      "outputs": [
        {
          "output_type": "stream",
          "name": "stdout",
          "text": [
            "['kiwi', 'banana', 'cherry']\n"
          ]
        }
      ],
      "source": [
        "fruits[0] = \"kiwi\"\n",
        "print(fruits)"
      ]
    },
    {
      "cell_type": "markdown",
      "source": [
        "# **4. Use the append method to add “orange” to the fruits list:**"
      ],
      "metadata": {
        "id": "EN5FrSRj00_2"
      }
    },
    {
      "cell_type": "code",
      "source": [
        "fruits.append(\"orange\")\n",
        "print(fruits)"
      ],
      "metadata": {
        "colab": {
          "base_uri": "https://localhost:8080/"
        },
        "id": "0rDiscYbNlnO",
        "outputId": "cdc3dbe7-0d20-4fb9-eb85-91694fd81a6a"
      },
      "execution_count": 5,
      "outputs": [
        {
          "output_type": "stream",
          "name": "stdout",
          "text": [
            "['kiwi', 'banana', 'cherry', 'orange']\n"
          ]
        }
      ]
    },
    {
      "cell_type": "markdown",
      "source": [
        "# **5. Use the insert method to add “lemon” as the second item in the fruits list:**"
      ],
      "metadata": {
        "id": "nP24Iptg1Q03"
      }
    },
    {
      "cell_type": "code",
      "source": [
        "fruits.insert(1,\"lemon\")\n",
        "print(fruits)"
      ],
      "metadata": {
        "colab": {
          "base_uri": "https://localhost:8080/"
        },
        "id": "FkZy5zinJLAd",
        "outputId": "1f8d2a6b-f802-4b79-99e0-d98143907ab4"
      },
      "execution_count": 6,
      "outputs": [
        {
          "output_type": "stream",
          "name": "stdout",
          "text": [
            "['kiwi', 'lemon', 'banana', 'cherry', 'orange']\n"
          ]
        }
      ]
    },
    {
      "cell_type": "markdown",
      "source": [
        "# **6. Use the remove method to delete “banana” from the fruits list:**"
      ],
      "metadata": {
        "id": "OQq_-WzP1Xpd"
      }
    },
    {
      "cell_type": "code",
      "source": [
        "fruits.remove(\"banana\")\n",
        "print(fruits)"
      ],
      "metadata": {
        "colab": {
          "base_uri": "https://localhost:8080/"
        },
        "id": "3u4rCIB-JXDB",
        "outputId": "5ebdcb18-1b29-47ea-b84c-a6fd8b6624e2"
      },
      "execution_count": 7,
      "outputs": [
        {
          "output_type": "stream",
          "name": "stdout",
          "text": [
            "['kiwi', 'lemon', 'cherry', 'orange']\n"
          ]
        }
      ]
    },
    {
      "cell_type": "markdown",
      "source": [
        "# **7. Python If...Else:** Print “Hello World” if a is greater than b:"
      ],
      "metadata": {
        "id": "hnf51ZZr1dHb"
      }
    },
    {
      "cell_type": "code",
      "source": [
        "a = 50 ; c = 20 ; b=10 ; d=20\n",
        "\n",
        "if a > b:\n",
        "  print(\"Hello World\")"
      ],
      "metadata": {
        "colab": {
          "base_uri": "https://localhost:8080/"
        },
        "id": "6nA9do9mJ-yv",
        "outputId": "079503f3-cbe0-4aab-e0e3-07985afd468c"
      },
      "execution_count": 9,
      "outputs": [
        {
          "output_type": "stream",
          "name": "stdout",
          "text": [
            "Hello World\n"
          ]
        }
      ]
    },
    {
      "cell_type": "markdown",
      "source": [
        "# **8. Print “Hello World” if a is not equal to b:**"
      ],
      "metadata": {
        "id": "UsSIME-A1sCh"
      }
    },
    {
      "cell_type": "code",
      "source": [
        "if a != b:\n",
        "  print(\"Hello World\")"
      ],
      "metadata": {
        "colab": {
          "base_uri": "https://localhost:8080/"
        },
        "id": "ZTzehSv3KfZs",
        "outputId": "afdddef1-11ec-4301-d07b-9e440b8921cf"
      },
      "execution_count": 10,
      "outputs": [
        {
          "output_type": "stream",
          "name": "stdout",
          "text": [
            "Hello World\n"
          ]
        }
      ]
    },
    {
      "cell_type": "markdown",
      "source": [
        "# **9. Print “Yes” if a is equal to b, otherwise print “No”:**"
      ],
      "metadata": {
        "id": "iWXelSXD1x22"
      }
    },
    {
      "cell_type": "code",
      "source": [
        "if a == b:\n",
        "  print(\"Yes\")\n",
        "else:\n",
        "  print(\"No\")"
      ],
      "metadata": {
        "colab": {
          "base_uri": "https://localhost:8080/"
        },
        "id": "yKuIFW4UKptj",
        "outputId": "4451be36-fb70-4611-b8f4-94f4bca118eb"
      },
      "execution_count": 12,
      "outputs": [
        {
          "output_type": "stream",
          "name": "stdout",
          "text": [
            "No\n"
          ]
        }
      ]
    },
    {
      "cell_type": "markdown",
      "source": [
        "# **10. Print “1” if a is equal to b, print “2” if a is greater than b, otherwise print “3”:**"
      ],
      "metadata": {
        "id": "8OGpqPBb13Ap"
      }
    },
    {
      "cell_type": "code",
      "source": [
        "if a == b:\n",
        "  print(\"1\")\n",
        "elif a > b:\n",
        "  print(\"2\")\n",
        "else:\n",
        "  print(\"3\")"
      ],
      "metadata": {
        "colab": {
          "base_uri": "https://localhost:8080/"
        },
        "id": "YxPq4BcRK4vs",
        "outputId": "53e0e8d7-d8be-4a93-e201-a9596bdbf584"
      },
      "execution_count": 13,
      "outputs": [
        {
          "output_type": "stream",
          "name": "stdout",
          "text": [
            "2\n"
          ]
        }
      ]
    },
    {
      "cell_type": "markdown",
      "source": [
        "# **11. Print “Hello” if a is equal to b, and c is equal to d:**"
      ],
      "metadata": {
        "id": "pHu-p9nQ2V7Y"
      }
    },
    {
      "cell_type": "code",
      "source": [
        "if a == b and c == d:\n",
        "  print(\"Hello\")"
      ],
      "metadata": {
        "id": "Qhtct8aGLLRO"
      },
      "execution_count": 15,
      "outputs": []
    },
    {
      "cell_type": "markdown",
      "source": [
        "# **12. Print “Hello” if either a is equal to b, or c is equal to d:**"
      ],
      "metadata": {
        "id": "K1sdC6Sw2ewp"
      }
    },
    {
      "cell_type": "code",
      "source": [
        "if a == b or c == d:\n",
        "  print(\"Hello\")"
      ],
      "metadata": {
        "colab": {
          "base_uri": "https://localhost:8080/"
        },
        "id": "2NQzK3Y2Lj1G",
        "outputId": "86899845-00b4-43e5-f6d9-b7387cc3ec5f"
      },
      "execution_count": 16,
      "outputs": [
        {
          "output_type": "stream",
          "name": "stdout",
          "text": [
            "Hello\n"
          ]
        }
      ]
    },
    {
      "cell_type": "markdown",
      "source": [
        "# **13. Python Loops: Print i as long as i is less than 6:**"
      ],
      "metadata": {
        "id": "-R6-6aaU2kXE"
      }
    },
    {
      "cell_type": "code",
      "source": [
        "i = 1\n",
        "while (i<6):\n",
        "  print(i)\n",
        "  i += 1"
      ],
      "metadata": {
        "colab": {
          "base_uri": "https://localhost:8080/"
        },
        "id": "jovMx037Lxh2",
        "outputId": "4714fb5f-12b0-4184-8a41-cc725f5bc41c"
      },
      "execution_count": 19,
      "outputs": [
        {
          "output_type": "stream",
          "name": "stdout",
          "text": [
            "1\n",
            "2\n",
            "3\n",
            "4\n",
            "5\n"
          ]
        }
      ]
    },
    {
      "cell_type": "markdown",
      "source": [
        "# **14. From #13 stop the loop if i is 3:**"
      ],
      "metadata": {
        "id": "BsxiKbw62tI_"
      }
    },
    {
      "cell_type": "code",
      "source": [
        "i = 1\n",
        "while (i<6):\n",
        "  print(i)\n",
        "  if (i == 3):\n",
        "    break\n",
        "  i += 1"
      ],
      "metadata": {
        "colab": {
          "base_uri": "https://localhost:8080/"
        },
        "id": "zl0g9nj6Mm9n",
        "outputId": "4f719423-d245-4d27-cbcb-f2c03d0fcb29"
      },
      "execution_count": 24,
      "outputs": [
        {
          "output_type": "stream",
          "name": "stdout",
          "text": [
            "1\n",
            "2\n",
            "3\n"
          ]
        }
      ]
    }
  ],
  "metadata": {
    "accelerator": "GPU",
    "colab": {
      "gpuType": "T4",
      "provenance": [],
      "toc_visible": true,
      "authorship_tag": "ABX9TyPLlwSuewwPfl6/5d9TEbqB",
      "include_colab_link": true
    },
    "kernelspec": {
      "display_name": "Python 3",
      "name": "python3"
    },
    "language_info": {
      "name": "python"
    }
  },
  "nbformat": 4,
  "nbformat_minor": 0
}